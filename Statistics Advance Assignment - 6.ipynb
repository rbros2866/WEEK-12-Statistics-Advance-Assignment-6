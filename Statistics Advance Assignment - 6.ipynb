{
 "cells": [
  {
   "cell_type": "markdown",
   "metadata": {},
   "source": [
    "**Q1.** Explain the assumptions required to use ANOVA and provide examples of violations that could impact\n",
    "the validity of the results."
   ]
  },
  {
   "cell_type": "markdown",
   "metadata": {},
   "source": [
    "Analysis of Variance (ANOVA) is a statistical technique used to compare the means of three or more groups to determine if there are statistically significant differences among them. To apply ANOVA correctly and interpret the results reliably, certain assumptions must be met. Violations of these assumptions can impact the validity of the ANOVA results. The key assumptions for ANOVA are as follows:\n",
    "\n",
    "**Independence of Observations:**\n",
    "\n",
    "Observations within and between groups must be independent of each other.\n",
    "\n",
    "**Homogeneity of Variance (Homoscedasticity):**\n",
    "\n",
    "The variance within each group should be approximately equal.\n",
    "\n",
    "**Normality of Residuals:**\n",
    "\n",
    "The residuals should follow a normal distribution within each group.\n",
    "\n",
    "**Homogeneity of Group Sizes:**\n",
    "\n",
    "Sample sizes in each group should be roughly equal or as close as possible.\n",
    "\n",
    "**Independence of Errors:**\n",
    "\n",
    "The errors (residuals) are independent of each other."
   ]
  },
  {
   "cell_type": "markdown",
   "metadata": {},
   "source": [
    "**Q2.** What are the three types of ANOVA, and in what situations would each be used?"
   ]
  },
  {
   "cell_type": "markdown",
   "metadata": {},
   "source": [
    "**One-Way ANOVA:**\n",
    "\n",
    "Use Case: Used when you have one categorical independent variable with multiple levels (groups) and want to test for differences in the means of a continuous dependent variable among these groups.\n",
    "\n",
    "Example: Comparing the effectiveness of different teaching methods on student test scores.\n",
    "\n",
    "**Two-Way ANOVA:**\n",
    "\n",
    "Use Case: Used when you have two independent categorical variables (factors) and want to analyze their combined effects, including main effects and interactions, on a continuous dependent variable.\n",
    "\n",
    "Example: Investigating how both gender and location influence customer satisfaction scores for a product.\n",
    "\n",
    "**Repeated Measures ANOVA:**\n",
    "\n",
    "Use Case: Used when you have repeated measurements on the same subjects or objects and want to explore how a within-subjects or repeated measurements factor affects the dependent variable.\n",
    "\n",
    "Example: Studying the effects of different time points (pre-treatment, post-treatment) on patients' blood pressure."
   ]
  },
  {
   "cell_type": "markdown",
   "metadata": {},
   "source": [
    "**Q3.** What is the partitioning of variance in ANOVA, and why is it important to understand this concept?"
   ]
  },
  {
   "cell_type": "markdown",
   "metadata": {},
   "source": [
    "**Partitioning Variance:** The partitioning of variance in Analysis of Variance (ANOVA) refers to the division of the total variance observed in the data into different components, each of which represents the sources of variation in the data. \n",
    "\n",
    "**Identifying Sources of Variation:** Helps identify factors that contribute to differences in group means.\n",
    "\n",
    "**Quantifying Effects:** Measures the influence of different factors on the dependent variable.\n",
    "\n",
    "**Hypothesis Testing:** Enables statistical tests to determine the significance of group differences.\n",
    "\n",
    "**Model Assessment:** Assists in evaluating the model's fit and adherence to assumptions.\n",
    "\n",
    "**Quality Improvement:** Useful for process and product quality control.\n",
    "\n",
    "**Data Interpretation:** Provides insight into the relationships between factors and the dependent variable."
   ]
  },
  {
   "cell_type": "markdown",
   "metadata": {},
   "source": [
    "**Q4.** How would you calculate the total sum of squares (SST), explained sum of squares (SSE), and residual\n",
    "sum of squares (SSR) in a one-way ANOVA using Python?"
   ]
  },
  {
   "cell_type": "markdown",
   "metadata": {},
   "source": [
    "**Total Sum of Squares (SST):**\n",
    "\n",
    "SST represents the total variability in the data and is calculated as the sum of squared differences between each data point and the overall mean. It quantifies the total variance in the data.\n",
    "\n",
    "**Explained Sum of Squares (SSE):**\n",
    "\n",
    "SSE represents the variability explained by the group means and is calculated as the sum of squared differences between each group mean and the overall mean, weighted by the number of data points in each group.\n",
    "\n",
    "**Residual Sum of Squares (SSR):**\n",
    "\n",
    "SSR represents the unexplained variability within each group and is calculated as the sum of squared differences between each data point and its group mean."
   ]
  },
  {
   "cell_type": "code",
   "execution_count": 2,
   "metadata": {},
   "outputs": [
    {
     "name": "stdout",
     "output_type": "stream",
     "text": [
      "Total Sum of Squares (SST): 634.9333333333333\n",
      "Explained Sum of Squares (SSE): 533.7333333333335\n",
      "Residual Sum of Squares (SSR): 101.20000000000002\n"
     ]
    }
   ],
   "source": [
    "import numpy as np\n",
    "\n",
    "# Sample data for each group\n",
    "group1_data = [28, 32, 25, 24, 29]\n",
    "group2_data = [35, 38, 36, 33, 30]\n",
    "group3_data = [42, 41, 45, 39, 44]\n",
    "\n",
    "# Combine all data points into a single list\n",
    "all_data = np.concatenate([group1_data, group2_data, group3_data])\n",
    "\n",
    "# Calculate the overall mean\n",
    "overall_mean = np.mean(all_data)\n",
    "\n",
    "# Calculate SST (Total Sum of Squares)\n",
    "sst = np.sum([(x - overall_mean) ** 2 for x in all_data])\n",
    "\n",
    "# Calculate SSE (Explained Sum of Squares)\n",
    "sse = sum([len(group_data) * (np.mean(group_data) - overall_mean) ** 2 for group_data in [group1_data, group2_data, group3_data]])\n",
    "\n",
    "# Calculate SSR (Residual Sum of Squares)\n",
    "ssr = sum([(x - np.mean(group_data)) ** 2 for group_data in [group1_data, group2_data, group3_data] for x in group_data])\n",
    "\n",
    "print(\"Total Sum of Squares (SST):\", sst)\n",
    "print(\"Explained Sum of Squares (SSE):\", sse)\n",
    "print(\"Residual Sum of Squares (SSR):\", ssr)\n",
    "\n"
   ]
  },
  {
   "cell_type": "markdown",
   "metadata": {},
   "source": [
    "**Q5.** In a two-way ANOVA, how would you calculate the main effects and interaction effects using Python?"
   ]
  },
  {
   "cell_type": "markdown",
   "metadata": {},
   "source": [
    "**Calculate the Main Effects:**\n",
    "\n",
    "Main effects represent the variability explained by each factor independently. You will calculate the SS for each factor while holding the other factor constant.\n",
    "\n",
    "**Calculate the Interaction Effect:**\n",
    "\n",
    "The interaction effect represents the variability that cannot be explained by the main effects of individual factors. It's the interaction between Factor A and Factor B."
   ]
  },
  {
   "cell_type": "code",
   "execution_count": 3,
   "metadata": {},
   "outputs": [
    {
     "name": "stdout",
     "output_type": "stream",
     "text": [
      "Total Sum of Squares (SST): 172.91666666666669\n",
      "SS for Factor A: 50.527777777777764\n",
      "SS for Factor B: 3.791666666666667\n",
      "Interaction Effect (SS_interaction): 118.59722222222224\n",
      "Residual Sum of Squares (SSE): 0.0\n"
     ]
    }
   ],
   "source": [
    "import numpy as np\n",
    "\n",
    "# Example data for two-way ANOVA\n",
    "data = np.array([[10, 15, 12], [18, 20, 17], [8, 10, 9], [16, 17, 15]])\n",
    "\n",
    "# Calculate overall mean\n",
    "overall_mean = np.mean(data)\n",
    "\n",
    "# Calculate the total sum of squares (SST)\n",
    "sst = np.sum((data - overall_mean) ** 2)\n",
    "\n",
    "# Calculate SS for Factor A (e.g., factor 1)\n",
    "group_mean_A = np.mean(data, axis=1)\n",
    "ss_factor_A = np.sum((group_mean_A - overall_mean) ** 2)\n",
    "\n",
    "# Calculate SS for Factor B (e.g., factor 2)\n",
    "group_mean_B = np.mean(data, axis=0)\n",
    "ss_factor_B = np.sum((group_mean_B - overall_mean) ** 2)\n",
    "\n",
    "# Calculate the interaction effect (SS_interaction)\n",
    "ss_interaction = sst - ss_factor_A - ss_factor_B\n",
    "\n",
    "# Calculate the residual sum of squares (SSE)\n",
    "sse = sst - ss_factor_A - ss_factor_B - ss_interaction\n",
    "\n",
    "# Print the results\n",
    "print(\"Total Sum of Squares (SST):\", sst)\n",
    "print(\"SS for Factor A:\", ss_factor_A)\n",
    "print(\"SS for Factor B:\", ss_factor_B)\n",
    "print(\"Interaction Effect (SS_interaction):\", ss_interaction)\n",
    "print(\"Residual Sum of Squares (SSE):\", sse)\n"
   ]
  },
  {
   "cell_type": "markdown",
   "metadata": {},
   "source": [
    "**Q6.** Suppose you conducted a one-way ANOVA and obtained an F-statistic of 5.23 and a p-value of 0.02.\n",
    "What can you conclude about the differences between the groups, and how would you interpret these\n",
    "results?"
   ]
  },
  {
   "cell_type": "markdown",
   "metadata": {},
   "source": [
    "**F-Statistic (F):**\n",
    "\n",
    "The F-statistic is a measure of the variation between group means relative to the variation within groups.\n",
    "In this case, you obtained an F-statistic of 5.23.\n",
    "\n",
    "**P-Value (p):**\n",
    "\n",
    "The p-value is the probability of observing the data, or more extreme data, assuming there are no significant differences between group means.\n",
    "You obtained a p-value of 0.02.\n",
    "\n",
    "**Interpretation:**\n",
    "\n",
    "The F-statistic suggests that there are differences between the group means, but this alone doesn't tell us if the differences are significant.\n",
    "\n",
    "**Statistical Significance:**\n",
    "\n",
    "The p-value of 0.02 is less than the typical significance level (alpha) of 0.05.\n",
    "\n",
    "This indicates that the observed differences between the groups are statistically significant.\n",
    "\n",
    "**Conclusion:**\n",
    "\n",
    "You can conclude that there are statistically significant differences between at least some of the group means, implying that the groups are not all the same with respect to the variable being tested.\n",
    "\n",
    "**Further Analysis:**\n",
    "\n",
    "To identify which specific group means are different from each other, post hoc tests (e.g., Tukey's HSD or Bonferroni) are often conducted to determine pairwise differences."
   ]
  },
  {
   "cell_type": "markdown",
   "metadata": {},
   "source": [
    "**Q7.** In a repeated measures ANOVA, how would you handle missing data, and what are the potential\n",
    "consequences of using different methods to handle missing data?"
   ]
  },
  {
   "cell_type": "markdown",
   "metadata": {},
   "source": [
    "**Handling Missing Data:**\n",
    "\n",
    "**Listwise Deletion (Complete Case Analysis):**\n",
    "\n",
    "Pros: Simple to implement.\n",
    "\n",
    "Cons: Reduces sample size, may lead to biased results if data is not MCAR.\n",
    "\n",
    "**Pairwise Deletion:**\n",
    "\n",
    "Pros: Retains available data.\n",
    "\n",
    "Cons: Different analyses on different data subsets, may lead to interpretation challenges, potential bias if data is not MCAR.\n",
    "\n",
    "\n",
    "**Mean Imputation:**\n",
    "\n",
    "Pros: Retains sample size.\n",
    "\n",
    "Cons: May underestimate variance, incorrect standard errors and p-values, does not account for individual trajectories.\n",
    "\n",
    "**Last Observation Carried Forward (LOCF):**\n",
    "\n",
    "Pros: Simple and maintains sample size.\n",
    "\n",
    "Cons: Assumes constant values after the last observation, can distort results, especially if data is MNAR.\n",
    "\n",
    "**Linear Interpolation:**\n",
    "\n",
    "Pros: Provides more realistic imputations.\n",
    "\n",
    "Cons: Requires assumptions about data between observed points, may not work well for nonlinear data.\n",
    "\n",
    "**Multiple Imputation:**\n",
    "\n",
    "Pros: Provides accurate parameter estimates and valid standard errors.\n",
    "\n",
    "Cons: Requires specialized software and expertise, computationally intensive.\n",
    "\n",
    "**Potential Consequences:**\n",
    "\n",
    "Choice of method should consider the nature of the data and reasons for missingness.\n",
    "\n",
    "Inappropriate handling can lead to biased or inefficient results.\n",
    "\n",
    "Sensitivity analyses are important to assess the impact of different methods.\n",
    "\n",
    "Multiple imputation is often recommended when data is not MCAR as it accounts for uncertainty and provides more robust results.\n",
    "\n",
    "\n",
    "\n",
    "\n"
   ]
  },
  {
   "cell_type": "markdown",
   "metadata": {},
   "source": [
    "**Q8.** What are some common post-hoc tests used after ANOVA, and when would you use each one? Provide\n",
    "an example of a situation where a post-hoc test might be necessary."
   ]
  },
  {
   "cell_type": "markdown",
   "metadata": {},
   "source": [
    "Post-hoc tests are used in statistics after conducting an analysis of variance (ANOVA) to further examine and compare the differences between multiple groups. ANOVA helps determine whether there are any significant differences among the means of the groups, but it doesn't tell you which specific groups are different from one another. Post-hoc tests help identify which groups differ significantly.\n",
    "\n",
    " Some common post-hoc tests include:"
   ]
  },
  {
   "cell_type": "markdown",
   "metadata": {},
   "source": [
    "**Tukey's Honestly Significant Difference (HSD):**\n",
    "\n",
    "Use when you have more than two groups and want to compare all possible pairwise differences.\n",
    "Appropriate when you have a balanced design and equal group sizes.\n",
    "Example: An ANOVA indicates there is a significant difference in test scores among four different teaching methods. A Tukey HSD test can be used to identify which teaching methods are significantly different from one another.\n",
    "\n",
    "**Bonferroni Correction:**\n",
    "\n",
    "Use when you have more than two groups and want to control for familywise error rate (the probability of making at least one Type I error across all comparisons).\n",
    "Appropriate when you need to conduct multiple comparisons and want to be more conservative in controlling the overall Type I error rate.\n",
    "Example: Conducting multiple t-tests to compare the means of several groups, and you want to reduce the chance of falsely identifying significant differences.\n",
    "\n",
    "**Scheffé's Method:**\n",
    "\n",
    "Use when you have more than two groups and the groups have unequal sample sizes.\n",
    "Appropriate for situations where group variances may be unequal.\n",
    "Example: An ANOVA involving groups with different sample sizes and variances. Scheffé's method can be used to compare means while accommodating these differences.\n",
    "\n",
    "**Bonferroni-Dunn Test:**\n",
    "\n",
    "Use when you have a control group and multiple treatment groups.\n",
    "Appropriate for situations where you want to compare each treatment group to a control group while controlling for Type I error.\n",
    "Example: Comparing the effectiveness of different drug treatments (several treatment groups) to a placebo (control group) in a medical study.\n",
    "\n",
    "**Holm-Bonferroni Method:**\n",
    "\n",
    "Use when you have multiple pairwise comparisons and want to control the Type I error rate.\n",
    "Appropriate when you want to balance control for Type I errors and have more power than the traditional Bonferroni correction.\n",
    "Example: Conducting multiple comparisons of means in a clinical trial with various treatment groups."
   ]
  },
  {
   "cell_type": "markdown",
   "metadata": {},
   "source": [
    "**Q9.** A researcher wants to compare the mean weight loss of three diets: A, B, and C. They collect data from 50 participants who were randomly assigned to one of the diets. \n",
    "\n",
    "Conduct a one-way ANOVA using Python to determine if there are any significant differences between the mean weight loss of the three diets.\n",
    "\n",
    "Report the F-statistic and p-value, and interpret the results."
   ]
  },
  {
   "cell_type": "code",
   "execution_count": 1,
   "metadata": {},
   "outputs": [
    {
     "name": "stdout",
     "output_type": "stream",
     "text": [
      "The one-way ANOVA is statistically significant.\n",
      "F-statistic: 515.92\n",
      "P-value: 0.0000\n",
      "There is at least one diet group that differs significantly from the others.\n"
     ]
    }
   ],
   "source": [
    "import numpy as np\n",
    "from scipy.stats import f_oneway\n",
    "\n",
    "# Define the weight loss data for each diet\n",
    "diet_A = [2.1, 1.8, 3.0, 2.5, 2.9, 2.0, 2.7, 1.6, 2.3, 2.4,\n",
    "          1.8, 2.5, 2.7, 2.1, 2.3, 2.4, 1.9, 1.7, 2.0, 2.8,\n",
    "          2.4, 2.2, 2.1, 1.6, 2.6, 2.0, 2.3, 2.4, 2.8, 1.9,\n",
    "          2.3, 2.2, 2.5, 2.6, 1.7, 2.0, 2.1, 1.8, 2.4, 2.5,\n",
    "          2.6, 2.0, 2.2, 2.4, 2.1, 2.7, 2.3, 2.5, 2.6]\n",
    "diet_B = [1.2, 0.8, 1.5, 1.7, 0.9, 1.3, 1.6, 1.2, 1.0, 1.4,\n",
    "          1.3, 1.1, 1.5, 1.2, 0.9, 1.0, 1.3, 1.4, 1.1, 1.2,\n",
    "          0.8, 1.5, 1.4, 1.0, 1.2, 1.1, 1.3, 1.2, 1.5, 1.3,\n",
    "          1.0, 1.1, 1.2, 1.4, 1.3, 1.0, 1.2, 1.3, 1.4, 1.1,\n",
    "          1.2, 1.3, 0.9, 1.5, 1.2, 1.0, 1.1, 1.4, 1.3]\n",
    "diet_C = [0.5, 0.7, 0.4, 0.9, 0.8, 0.6, 0.7, 0.3, 0.5, 0.8,\n",
    "          0.4, 0.9, 0.6, 0.8, 0.3, 0.7, 0.5, 0.6, 0.4, 0.9,\n",
    "          0.7, 0.5, 0.6, 0.4, 0.8, 0.7, 0.9, 0.6, 0.5, 0.8,\n",
    "          0.4, 0.9, 0.6, 0.7, 0.8, 0.3, 0.5, 0.4, 0.9, 0.6,\n",
    "          0.7, 0.8, 0.5, 0.6, 0.4, 0.9, 0.7, 0.5, 0.6]\n",
    "\n",
    "# Perform one-way ANOVA\n",
    "f_statistic, p_value = f_oneway(diet_A, diet_B, diet_C)\n",
    "\n",
    "\n",
    "if p_value < 0.05:\n",
    "    print(\"The one-way ANOVA is statistically significant.\")\n",
    "    print(f\"F-statistic: {f_statistic:.2f}\")\n",
    "    print(f\"P-value: {p_value:.4f}\")\n",
    "    print(\"There is at least one diet group that differs significantly from the others.\")\n",
    "else:\n",
    "    print(\"The one-way ANOVA is not statistically significant.\")\n",
    "    print(f\"F-statistic: {f_statistic:.2f}\")\n",
    "    print(f\"P-value: {p_value:.4f}\")\n",
    "    print(\"There is no significant difference in mean weight loss between the diet groups.\")\n",
    "\n"
   ]
  },
  {
   "cell_type": "markdown",
   "metadata": {},
   "source": [
    "**Q10.** A company wants to know if there are any significant differences in the average time it takes to\n",
    "complete a task using three different software programs: Program A, Program B, and Program C.\n",
    "\n",
    "They randomly assign 30 employees to one of the programs and record the time it takes each employee to\n",
    "complete the task. Conduct a two-way ANOVA using Python to determine if there are any main effects or\n",
    "interaction effects between the software programs and employee experience level (novice vs.\n",
    "experienced).\n",
    "\n",
    " Report the F-statistics and p-values, and interpret the results."
   ]
  },
  {
   "cell_type": "code",
   "execution_count": 6,
   "metadata": {},
   "outputs": [
    {
     "name": "stdout",
     "output_type": "stream",
     "text": [
      "The two-way ANOVA is statistically significant.\n",
      "F-statistic: 2.68\n",
      "P-value: 0.0464\n",
      "There is at least one significant main effect or interaction effect.\n"
     ]
    }
   ],
   "source": [
    "import numpy as np\n",
    "import pandas as pd\n",
    "from scipy.stats import f_oneway\n",
    "\n",
    "# Create a dataset with employee experience level, software program, and completion times\n",
    "data = pd.DataFrame({\n",
    "    'Experience': ['Novice', 'Experienced'] * 15,\n",
    "    'Software': ['A', 'B', 'C'] * 10,\n",
    "    'CompletionTime': [18, 21, 17, 25, 20, 22, 19, 26, 23, 20,\n",
    "                      19, 24, 21, 27, 22, 19, 16, 20, 18, 25,\n",
    "                      24, 22, 19, 23, 26, 20, 21, 22, 18, 27]\n",
    "})\n",
    "\n",
    "# Perform a two-way ANOVA\n",
    "formula = 'CompletionTime ~ Experience + Software'\n",
    "grouped = data.groupby(['Experience', 'Software'])\n",
    "f_statistic, p_value = f_oneway(*[group['CompletionTime'] for name, group in grouped])\n",
    "\n",
    "\n",
    "if p_value < 0.05:\n",
    "    print(\"The two-way ANOVA is statistically significant.\")\n",
    "    print(f\"F-statistic: {f_statistic:.2f}\")\n",
    "    print(f\"P-value: {p_value:.4f}\")\n",
    "    print(\"There is at least one significant main effect or interaction effect.\")\n",
    "else:\n",
    "    print(\"The two-way ANOVA is not statistically significant.\")\n",
    "    print(f\"F-statistic: {f_statistic:.2f}\")\n",
    "    print(f\"P-value: {p_value:.4f}\")\n",
    "    print(\"There are no significant effects in the data.\")\n"
   ]
  },
  {
   "cell_type": "markdown",
   "metadata": {},
   "source": [
    "**Q11.** An educational researcher is interested in whether a new teaching method improves student test\n",
    "scores. \n",
    "\n",
    "They randomly assign 100 students to either the control group (traditional teaching method) or the\n",
    "experimental group (new teaching method) and administer a test at the end of the semester.\n",
    "\n",
    "Conduct a two-sample t-test using Python to determine if there are any significant differences in test scores\n",
    "between the two groups.\n",
    "\n",
    "If the results are significant, follow up with a post-hoc test to determine which\n",
    "group(s) differ significantly from each other."
   ]
  },
  {
   "cell_type": "code",
   "execution_count": 26,
   "metadata": {},
   "outputs": [
    {
     "name": "stdout",
     "output_type": "stream",
     "text": [
      "The two-sample t-test is statistically significant.\n",
      "T-statistic: -7.45\n",
      "P-value: 0.0000\n",
      "There is a significant difference in test scores between the two groups.\n"
     ]
    }
   ],
   "source": [
    "from scipy.stats import ttest_ind\n",
    "\n",
    "# test data\n",
    "\n",
    "control_scores = [85, 88, 90, 78, 92, 86, 81, 79, 87, 84, 82, 88, 83, 89, 85, 80, 81, 87, 86, 84]\n",
    "experimental_scores = [91, 94, 96, 88, 97, 92, 90, 89, 95, 93, 89, 91, 92, 96, 90, 93, 94, 92, 91, 95]\n",
    "\n",
    "\n",
    "t_statistic, p_value = ttest_ind(control_scores, experimental_scores)\n",
    "\n",
    "if p_value < 0.05:\n",
    "    print(\"The two-sample t-test is statistically significant.\")\n",
    "    print(f\"T-statistic: {t_statistic:.2f}\")\n",
    "    print(f\"P-value: {p_value:.4f}\")\n",
    "    print(\"There is a significant difference in test scores between the two groups.\")\n",
    "else:\n",
    "    print(\"The two-sample t-test is not statistically significant.\")\n",
    "    print(f\"T-statistic: {t_statistic:.2f}\")\n",
    "    print(f\"P-value: {p_value:.4f}\")\n",
    "    print(\"There is no significant difference in test scores between the two groups.\")\n"
   ]
  },
  {
   "cell_type": "markdown",
   "metadata": {},
   "source": [
    "**Tukey's HSD post-hoc test from the statsmodels library**"
   ]
  },
  {
   "cell_type": "code",
   "execution_count": 27,
   "metadata": {},
   "outputs": [
    {
     "name": "stdout",
     "output_type": "stream",
     "text": [
      "  Multiple Comparison of Means - Tukey HSD, FWER=0.05   \n",
      "========================================================\n",
      " group1    group2    meandiff p-adj lower  upper  reject\n",
      "--------------------------------------------------------\n",
      "Control Experimental     7.65   0.0 5.5716 9.7284   True\n",
      "--------------------------------------------------------\n"
     ]
    }
   ],
   "source": [
    "\n",
    "\n",
    "from statsmodels.stats.multicomp import MultiComparison\n",
    "\n",
    "# Combine the data and group labels\n",
    "all_scores = control_scores + experimental_scores\n",
    "group_labels = ['Control'] * len(control_scores) + ['Experimental'] * len(experimental_scores)\n",
    "\n",
    "# Create a MultiComparison object\n",
    "mc = MultiComparison(all_scores, group_labels)\n",
    "\n",
    "# Perform Tukey's HSD post-hoc test\n",
    "result = mc.tukeyhsd()\n",
    "\n",
    "# Print the post-hoc test results\n",
    "print(result)\n"
   ]
  },
  {
   "cell_type": "code",
   "execution_count": 33,
   "metadata": {},
   "outputs": [
    {
     "name": "stdout",
     "output_type": "stream",
     "text": [
      "<statsmodels.sandbox.stats.multicomp.MultiComparison object at 0x000002B258965050>\n",
      "  Multiple Comparison of Means - Tukey HSD, FWER=0.05   \n",
      "========================================================\n",
      " group1    group2    meandiff p-adj lower  upper  reject\n",
      "--------------------------------------------------------\n",
      "Control Experimental     7.65   0.0 5.5716 9.7284   True\n",
      "--------------------------------------------------------\n"
     ]
    }
   ],
   "source": [
    "group_labels\n",
    "all_scores\n",
    "print(mc)\n",
    "print(result)"
   ]
  },
  {
   "cell_type": "code",
   "execution_count": 34,
   "metadata": {},
   "outputs": [
    {
     "data": {
      "image/png": "[encoded data removed]",
      "text/plain": [
       "<Figure size 800x600 with 1 Axes>"
      ]
     },
     "metadata": {},
     "output_type": "display_data"
    }
   ],
   "source": [
    "import matplotlib.pyplot as plt\n",
    "\n",
    "control_scores = [85, 88, 90, 78, 92, 86, 81, 79, 87, 84, 82, 88, 83, 89, 85, 80, 81, 87, 86, 84]\n",
    "experimental_scores = [91, 94, 96, 88, 97, 92, 90, 89, 95, 93, 89, 91, 92, 96, 90, 93, 94, 92, 91, 95]\n",
    "\n",
    "\n",
    "data = [control_scores, experimental_scores]\n",
    "labels = ['Control', 'Experimental']\n",
    "\n",
    "plt.figure(figsize=(8, 6))\n",
    "plt.boxplot(data, labels=labels, vert=False)\n",
    "plt.xlabel(\"Test Scores\")\n",
    "plt.ylabel(\"Groups\")\n",
    "plt.title(\"Test Score Distribution by Group\")\n",
    "plt.show()\n"
   ]
  },
  {
   "cell_type": "markdown",
   "metadata": {},
   "source": [
    "**Q12.** A researcher wants to know if there are any significant differences in the average daily sales of three\n",
    "retail stores: Store A, Store B, and Store C. They randomly select 30 days and record the sales for each store\n",
    "on those days.\n",
    "\n",
    " Conduct a repeated measures ANOVA using Python to determine if there are any significant differences in sales between the three stores. If the results are significant, follow up with a post-hoc test to determine which store(s) differ significantly from each other."
   ]
  },
  {
   "cell_type": "code",
   "execution_count": 53,
   "metadata": {},
   "outputs": [
    {
     "name": "stdout",
     "output_type": "stream",
     "text": [
      "Repeated Measures ANOVA Results:\n",
      "                sum_sq    df             F  PR(>F)\n",
      "C(Store)  2.864129e-27   2.0  3.947757e-30     1.0\n",
      "Residual  3.155960e+04  87.0           NaN     NaN\n"
     ]
    }
   ],
   "source": [
    "import numpy as np\n",
    "import pandas as pd\n",
    "import statsmodels.api as sm\n",
    "from statsmodels.formula.api import ols\n",
    "\n",
    "# Create a dataset with sales data for each store across 30 days\n",
    "data = pd.DataFrame({\n",
    "    'Day': list(range(1, 31)) * 3,\n",
    "    'Store': ['A'] * 30 + ['B'] * 30 + ['C'] * 30,\n",
    "    'Sales': [100, 105, 110, 95, 90, 102, 120, 118, 115, 105,\n",
    "              110, 112, 103, 98, 10, 92, 97, 105, 115, 112,\n",
    "              90, 92, 88, 98, 100, 105, 110, 95, 98, 102] * 3\n",
    "})\n",
    "\n",
    "\n",
    "# Perform a repeated measures ANOVA\n",
    "formula = 'Sales ~ C(Store)'\n",
    "model = ols(formula, data).fit()\n",
    "anova_table = sm.stats.anova_lm(model, typ=2)\n",
    "\n",
    "print(\"Repeated Measures ANOVA Results:\")\n",
    "print(anova_table)\n",
    "\n"
   ]
  },
  {
   "cell_type": "code",
   "execution_count": 59,
   "metadata": {},
   "outputs": [
    {
     "name": "stdout",
     "output_type": "stream",
     "text": [
      "Repeated Measures ANOVA Results:\n",
      "               Anova\n",
      "===================================\n",
      "      F Value Num DF  Den DF Pr > F\n",
      "-----------------------------------\n",
      "Store -5.5545 2.0000 58.0000 1.0000\n",
      "===================================\n",
      "\n",
      "No significant differences between the stores.\n"
     ]
    }
   ],
   "source": [
    "import pandas as pd\n",
    "import statsmodels.api as sm\n",
    "from statsmodels.formula.api import ols\n",
    "from statsmodels.stats.anova import AnovaRM\n",
    "from statsmodels.stats.multicomp import MultiComparison\n",
    "\n",
    "# dummy data\n",
    "data = pd.DataFrame({\n",
    "    'Day': list(range(1, 31)) * 3,\n",
    "    'Store': ['A'] * 30 + ['B'] * 30 + ['C'] * 30,\n",
    "    'Sales': [100, 105, 110, 95, 98, 102, 120, 118, 115, 105,\n",
    "              110, 112, 103, 98, 100, 92, 97, 105, 115, 112,\n",
    "              90, 92, 88, 98, 100, 105, 110, 95, 98, 102] * 3\n",
    "})\n",
    "\n",
    "# Perform a repeated measures ANOVA\n",
    "aov_table = AnovaRM(data, 'Sales', 'Day', within=['Store']).fit()\n",
    "\n",
    "\n",
    "print(\"Repeated Measures ANOVA Results:\")\n",
    "print(aov_table)\n",
    "\n",
    "# Check if the ANOVA is significant\n",
    "if aov_table.anova_table['Pr > F'].iloc[0] < 0.05:\n",
    "    # If the ANOVA is significant, perform a post-hoc test (Bonferroni)\n",
    "    mc = MultiComparison(data['Sales'], data['Store'])\n",
    "    result = mc.allpairtest(adjusted=True, method='bonf')\n",
    "    print(\"\\nBonferroni Post-Hoc Test:\")\n",
    "    print(result)\n",
    "else:\n",
    "    print(\"No significant differences between the stores.\")\n"
   ]
  },
  {
   "cell_type": "code",
   "execution_count": null,
   "metadata": {},
   "outputs": [],
   "source": []
  }
 ],
 "metadata": {
  "kernelspec": {
   "display_name": "Python 3",
   "language": "python",
   "name": "python3"
  },
  "language_info": {
   "codemirror_mode": {
    "name": "ipython",
    "version": 3
   },
   "file_extension": ".py",
   "mimetype": "text/x-python",
   "name": "python",
   "nbconvert_exporter": "python",
   "pygments_lexer": "ipython3",
   "version": "3.11.1"
  }
 },
 "nbformat": 4,
 "nbformat_minor": 2
}
